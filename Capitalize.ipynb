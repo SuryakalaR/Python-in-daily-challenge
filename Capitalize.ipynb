{
  "nbformat": 4,
  "nbformat_minor": 0,
  "metadata": {
    "colab": {
      "provenance": [],
      "gpuType": "T4",
      "authorship_tag": "ABX9TyMgBWD6aVajUSEV05c13P4d",
      "include_colab_link": true
    },
    "kernelspec": {
      "name": "python3",
      "display_name": "Python 3"
    },
    "language_info": {
      "name": "python"
    },
    "accelerator": "GPU"
  },
  "cells": [
    {
      "cell_type": "markdown",
      "metadata": {
        "id": "view-in-github",
        "colab_type": "text"
      },
      "source": [
        "<a href=\"https://colab.research.google.com/github/SuryakalaR/Python-in-daily-challenge/blob/main/Capitalize.ipynb\" target=\"_parent\"><img src=\"https://colab.research.google.com/assets/colab-badge.svg\" alt=\"Open In Colab\"/></a>"
      ]
    },
    {
      "cell_type": "code",
      "execution_count": null,
      "metadata": {
        "colab": {
          "base_uri": "https://localhost:8080/"
        },
        "id": "GKnG7w5nb1Et",
        "outputId": "2485a584-710d-49b1-9f0b-5973747cddb9"
      },
      "outputs": [
        {
          "output_type": "stream",
          "name": "stdout",
          "text": [
            "Hello world\n"
          ]
        }
      ],
      "source": [
        "s=\"heLLo WoRld\"\n",
        "print(s.capitalize())"
      ]
    },
    {
      "cell_type": "markdown",
      "source": [
        "Function using upper\n"
      ],
      "metadata": {
        "id": "KRD5IxCqdURa"
      }
    },
    {
      "cell_type": "code",
      "source": [
        "s=\"helLO WORld\"\n",
        "print(s.upper())"
      ],
      "metadata": {
        "colab": {
          "base_uri": "https://localhost:8080/"
        },
        "id": "uFNEr9mrdYc5",
        "outputId": "3891536b-1c21-400a-dfa9-f7c986d4b76d"
      },
      "execution_count": null,
      "outputs": [
        {
          "output_type": "stream",
          "name": "stdout",
          "text": [
            "HELLO WORLD\n"
          ]
        }
      ]
    },
    {
      "cell_type": "markdown",
      "source": [
        "function using lower"
      ],
      "metadata": {
        "id": "Hi120LD-diho"
      }
    },
    {
      "cell_type": "code",
      "source": [
        "s=\"HELLo worLD\"\n",
        "print(s.lower())"
      ],
      "metadata": {
        "colab": {
          "base_uri": "https://localhost:8080/"
        },
        "id": "u4UIG9KJdmCc",
        "outputId": "4b29253f-8fca-4fd8-d533-0141cfb09a74"
      },
      "execution_count": null,
      "outputs": [
        {
          "output_type": "stream",
          "name": "stdout",
          "text": [
            "hello world\n"
          ]
        }
      ]
    },
    {
      "cell_type": "markdown",
      "source": [
        "Function using title() for first letter"
      ],
      "metadata": {
        "id": "H9LcpLKBd92L"
      }
    },
    {
      "cell_type": "code",
      "source": [
        "s=\"heLLo woRLd\"\n",
        "print(s.title())"
      ],
      "metadata": {
        "colab": {
          "base_uri": "https://localhost:8080/"
        },
        "id": "xaGl0BJweK7i",
        "outputId": "edee647f-9519-46f5-fb5e-85fed2289755"
      },
      "execution_count": null,
      "outputs": [
        {
          "output_type": "stream",
          "name": "stdout",
          "text": [
            "Hello World\n"
          ]
        }
      ]
    },
    {
      "cell_type": "markdown",
      "source": [
        "function using split and capitalize"
      ],
      "metadata": {
        "id": "EyT9zpNreUlV"
      }
    },
    {
      "cell_type": "code",
      "source": [
        "s=\"heLLo worLD\"\n",
        "print(\" \".join(i.capitalize() for i in s.split()))"
      ],
      "metadata": {
        "colab": {
          "base_uri": "https://localhost:8080/"
        },
        "id": "Nc3Fjv4GeaOe",
        "outputId": "2e3d53cc-a3ff-49d0-99db-0c9227919196"
      },
      "execution_count": null,
      "outputs": [
        {
          "output_type": "stream",
          "name": "stdout",
          "text": [
            "Hello World\n"
          ]
        }
      ]
    },
    {
      "cell_type": "markdown",
      "source": [
        "It convert the both upper to lower and lower to upper\n"
      ],
      "metadata": {
        "id": "G8aHZzP4ukMy"
      }
    },
    {
      "cell_type": "code",
      "source": [
        "s=\"WelCome tO pytHOn Convertion In sTRING\"\n",
        "string=\"\"\n",
        "for i in s:\n",
        "  if(i.isupper()==True):\n",
        "    string+=i.lower()\n",
        "  else:\n",
        "    string+=i.upper()\n",
        "print(string)\n",
        "\n"
      ],
      "metadata": {
        "colab": {
          "base_uri": "https://localhost:8080/"
        },
        "id": "aCtGCasRuyza",
        "outputId": "78fe22e3-f1f2-4e2b-d27d-fa981c51dade"
      },
      "execution_count": 6,
      "outputs": [
        {
          "output_type": "stream",
          "name": "stdout",
          "text": [
            "wELcOME To PYThoN cONVERTION iN String\n"
          ]
        }
      ]
    },
    {
      "cell_type": "markdown",
      "source": [
        "the above same convertion can use this also"
      ],
      "metadata": {
        "id": "bRTDQ2I6xENo"
      }
    },
    {
      "cell_type": "code",
      "source": [
        "s=\"WelCome tO pytHOn Convertion In sTRING\"\n",
        "print(s.swapcase())"
      ],
      "metadata": {
        "colab": {
          "base_uri": "https://localhost:8080/"
        },
        "id": "Lln2xDC2xOlo",
        "outputId": "230fc57b-ec49-4afc-9022-64867a898dec"
      },
      "execution_count": 7,
      "outputs": [
        {
          "output_type": "stream",
          "name": "stdout",
          "text": [
            "wELcOME To PYThoN cONVERTION iN String\n"
          ]
        }
      ]
    }
  ]
}