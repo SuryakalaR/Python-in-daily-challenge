{
  "nbformat": 4,
  "nbformat_minor": 0,
  "metadata": {
    "colab": {
      "provenance": [],
      "authorship_tag": "ABX9TyNpdqphHTESKIevOlHEbK6z",
      "include_colab_link": true
    },
    "kernelspec": {
      "name": "python3",
      "display_name": "Python 3"
    },
    "language_info": {
      "name": "python"
    }
  },
  "cells": [
    {
      "cell_type": "markdown",
      "metadata": {
        "id": "view-in-github",
        "colab_type": "text"
      },
      "source": [
        "<a href=\"https://colab.research.google.com/github/SuryakalaR/Python-in-daily-challenge/blob/main/String_convertion.ipynb\" target=\"_parent\"><img src=\"https://colab.research.google.com/assets/colab-badge.svg\" alt=\"Open In Colab\"/></a>"
      ]
    },
    {
      "cell_type": "markdown",
      "source": [
        "**Text Wrap**\n",
        "It used the string to separated in the next line"
      ],
      "metadata": {
        "id": "CEeH10PSvWr7"
      }
    },
    {
      "cell_type": "code",
      "source": [
        "import textwrap\n",
        "def wrap(string, max_width):\n",
        "  return textwrap.fill(string,max_width)\n",
        "if __name__ == '__main__':\n",
        "  string,max_width=input(),int(input())\n",
        "  result=wrap(string,max_width)\n",
        "  print(result)\n"
      ],
      "metadata": {
        "colab": {
          "base_uri": "https://localhost:8080/"
        },
        "id": "hFwJYMh_vprQ",
        "outputId": "963e8d34-936a-4e44-e5b7-d335a6149f1e"
      },
      "execution_count": 5,
      "outputs": [
        {
          "output_type": "stream",
          "name": "stdout",
          "text": [
            "ADRDHGKDNNEKODUMXBNLPYR\n",
            "5\n",
            "ADRDH\n",
            "GKDNN\n",
            "EKODU\n",
            "MXBNL\n",
            "PYR\n"
          ]
        }
      ]
    }
  ]
}