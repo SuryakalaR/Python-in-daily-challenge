{
  "nbformat": 4,
  "nbformat_minor": 0,
  "metadata": {
    "colab": {
      "provenance": [],
      "gpuType": "T4",
      "authorship_tag": "ABX9TyOEbK83YkTnB/TMMl0eU11p",
      "include_colab_link": true
    },
    "kernelspec": {
      "name": "python3",
      "display_name": "Python 3"
    },
    "language_info": {
      "name": "python"
    },
    "accelerator": "GPU"
  },
  "cells": [
    {
      "cell_type": "markdown",
      "metadata": {
        "id": "view-in-github",
        "colab_type": "text"
      },
      "source": [
        "<a href=\"https://colab.research.google.com/github/SuryakalaR/Python-in-daily-challenge/blob/main/Basedpro.ipynb\" target=\"_parent\"><img src=\"https://colab.research.google.com/assets/colab-badge.svg\" alt=\"Open In Colab\"/></a>"
      ]
    },
    {
      "cell_type": "markdown",
      "source": [
        "Problem Statement\n",
        "\n",
        "\n",
        "\n",
        "Write a program that accepts a char, int, and float as input and prints the same.\n",
        "\n",
        "Input format :\n",
        "The input consists of a char, int, and float separated by a space.\n",
        "\n",
        "Output format :\n",
        "The output prints the char, int, and float with 2 decimal places separated by a space in the same line, respectively.\n",
        "\n",
        "\n",
        "\n",
        "\n"
      ],
      "metadata": {
        "id": "uH5MCVIhEDqW"
      }
    },
    {
      "cell_type": "code",
      "execution_count": null,
      "metadata": {
        "colab": {
          "base_uri": "https://localhost:8080/"
        },
        "id": "T4AbC1TQD-JB",
        "outputId": "1919ab75-0b58-4ad6-ddc1-71056e4f234d"
      },
      "outputs": [
        {
          "output_type": "stream",
          "name": "stdout",
          "text": [
            "a 10 15.2\n",
            "a 10 15.20\n"
          ]
        }
      ],
      "source": [
        "char,i,f=input().split()\n",
        "i=int(i)\n",
        "f=float(f)\n",
        "print(f\"{char} {i} {f:.2f}\")\n"
      ]
    },
    {
      "cell_type": "markdown",
      "source": [
        "Write a simple program by declaring three variables, where two variables are of the integer type and one variable is of the double type. Add the two integer variables and store the result in the remaining variable (double).\n",
        "\n",
        "Input format :\n",
        "The input consists of the two values, n1 and n2, separated by a single space.\n",
        "\n",
        "Output format :\n",
        "The output displays the result as a double."
      ],
      "metadata": {
        "id": "yp9TR741nhCd"
      }
    },
    {
      "cell_type": "code",
      "source": [
        "n1,n2=map(int,input().split())\n",
        "n3=float(n1+n2)\n",
        "print(n3)"
      ],
      "metadata": {
        "colab": {
          "base_uri": "https://localhost:8080/"
        },
        "id": "EC8YIRH1osHO",
        "outputId": "47fdeaec-5000-49eb-8e04-80f6b0119ff8"
      },
      "execution_count": null,
      "outputs": [
        {
          "output_type": "stream",
          "name": "stdout",
          "text": [
            "10 20\n",
            "30.0\n"
          ]
        }
      ]
    },
    {
      "cell_type": "markdown",
      "source": [
        "Alice is a math teacher who wants to calculate the area of a circle based on the radius provided by a student. She needs your help to create a C program that will take an integer input (radius) from the student and calculate the area of the circle.\n",
        "\n",
        "\n",
        "\n",
        "It's important to cast the integer radius to a double before performing the area calculation to ensure accuracy.\n",
        "\n",
        "\n",
        "\n",
        "Formula:\n",
        "\n",
        "Area = Math.PI * Radius * Radius\n",
        "\n",
        "Input format :\n",
        "The first input line is an integer n, representing the circle's radius.\n",
        "\n",
        "Output format :\n",
        "The output should print the calculated area of the circle as a double value, formatted to two decimal places.\n",
        "\n"
      ],
      "metadata": {
        "id": "y9_VTnT1tMZv"
      }
    },
    {
      "cell_type": "code",
      "source": [
        "%%writefile my_program.c\n",
        "\n",
        "#include<stdio.h>\n",
        "#include<math.h>\n",
        "int main(){\n",
        "  int radius;\n",
        "  double area;\n",
        "  scanf(\"%d\",&radius);\n",
        "  area=M_PI*(double)radius*(double)radius;\n",
        "  printf(\"%.2f\",area);\n",
        "}"
      ],
      "metadata": {
        "colab": {
          "base_uri": "https://localhost:8080/"
        },
        "id": "VYLWpiFwtNT2",
        "outputId": "3ab9caa1-090e-460f-9a41-266d5b1d4c57"
      },
      "execution_count": null,
      "outputs": [
        {
          "output_type": "stream",
          "name": "stdout",
          "text": [
            "Overwriting my_program.c\n"
          ]
        }
      ]
    },
    {
      "cell_type": "code",
      "source": [
        "!gcc my_program.c"
      ],
      "metadata": {
        "id": "ED3XatspwPMx"
      },
      "execution_count": null,
      "outputs": []
    },
    {
      "cell_type": "code",
      "source": [
        "!./a.out"
      ],
      "metadata": {
        "colab": {
          "base_uri": "https://localhost:8080/"
        },
        "id": "kY56mcSBxiNq",
        "outputId": "f64994f5-6867-4175-f0b9-f6692038afbd"
      },
      "execution_count": null,
      "outputs": [
        {
          "output_type": "stream",
          "name": "stdout",
          "text": [
            "13\n",
            "530.93"
          ]
        }
      ]
    },
    {
      "cell_type": "markdown",
      "source": [
        "**A space research team is building a robot to decode signals from alien life forms. These signals are initially received in decimal format, but the robot only understands binary. The engineers need a tool that can quickly convert these decimal numbers to binary so the robot can interpret them. Your task is to help the team by writing a program that performs this conversion.\n",
        "\n",
        "Input format :\n",
        "The first line of input contains an integer T, representing the number of decimal numbers to convert.\n",
        "\n",
        "The next T lines each contain one integer, a decimal number to be converted to binary.\n",
        "\n",
        "Output format :\n",
        "For each decimal number, print a line stating: \"Binary equivalent of X is Y\", where X is the input decimal number, and Y is its binary equivalent."
      ],
      "metadata": {
        "id": "8Ml9hgCuBBrM"
      }
    },
    {
      "cell_type": "code",
      "source": [
        "T=int(input())\n",
        "for i in range(T):\n",
        "  N=int(input())\n",
        "  b=bin(N)[2:]\n",
        "  print(\"Binary equivalent of \",N,\"is\",b)"
      ],
      "metadata": {
        "colab": {
          "base_uri": "https://localhost:8080/"
        },
        "id": "EYsm4uuVBDUQ",
        "outputId": "a9d8526a-06c3-4545-81aa-2cec5a9d7833"
      },
      "execution_count": 1,
      "outputs": [
        {
          "output_type": "stream",
          "name": "stdout",
          "text": [
            "3\n",
            "4\n",
            "Binary equivalent of  4 is 100\n",
            "5\n",
            "Binary equivalent of  5 is 101\n",
            "7\n",
            "Binary equivalent of  7 is 111\n"
          ]
        }
      ]
    },
    {
      "cell_type": "markdown",
      "source": [
        "Emily has a beautiful circular garden in her backyard. She's interested in calculating two important measurements for her garden: the circumference and the area. To do this, she needs a program that can take the radius of her circular garden as input and provide the calculated circumference and area as output. The formulas she should use are as follows:\n",
        "\n",
        "\n",
        "\n",
        "To calculate the circumference (C) of a circle, you can use the formula:\n",
        "\n",
        "C = 2 * π * r\n",
        "\n",
        "Where:\n",
        "\n",
        "\n",
        "\n",
        "C represents the circumference.\n",
        "\n",
        "π (pi) is approximately 3.14159.\n",
        "\n",
        "r is the radius of the circle.\n",
        "\n",
        "To calculate the area (A) of a circle, you can use the formula:\n",
        "\n",
        "A = π * r^2\n",
        "\n",
        "Where:\n",
        "\n",
        "\n",
        "\n",
        "A represents the area.\n",
        "\n",
        "π (pi) is approximately 3.14159.\n",
        "\n",
        "r is the radius of the circle.\n",
        "\n",
        "Emily is not a programmer, and she needs your help to create a program that will make these calculations for her garden.\n",
        "\n",
        "Input format :\n",
        "The first line of the input contains a single positive floating-point number as input, representing the radius of the circular garden. The radius should be in meters.\n",
        "\n",
        "\n",
        "\n",
        "Output format :\n",
        "The output should display the program should provide two calculated values.\n",
        "\n",
        "The circumference (C) of the circular garden.\n",
        "The area (A) of the circular garden.\n",
        "Each value should be rounded to two decimal places.\n",
        "Code constraints :\n",
        "Use the approximation π ≈ 3.14159 for the calculations.\n",
        "\n",
        "The program should take the radius as input, perform the calculations, and output the results.\n",
        "\n",
        "Ensure your code handles exceptions or errors for invalid inputs (e.g., non-numeric inputs or negative values)."
      ],
      "metadata": {
        "id": "8A9P1FqNB-Gs"
      }
    },
    {
      "cell_type": "code",
      "source": [
        "try:\n",
        "  r=float(input())\n",
        "  if(r<0):\n",
        "      print(\"Error the value is negative\")\n",
        "\n",
        "  else:\n",
        "     C=2*3.14159*r\n",
        "     A=3.14159*r*r\n",
        "     print(f\"circumference:{C:.2f} meter\")\n",
        "     print(f\"Area: {A:.2f} meter\")\n",
        "except ValueError:\n",
        "   print(\"Invalid input:enter the correct number\")\n"
      ],
      "metadata": {
        "colab": {
          "base_uri": "https://localhost:8080/"
        },
        "id": "6BERWEU1DRme",
        "outputId": "a8c05097-a0c5-41c0-c3f5-bc811fe6382e"
      },
      "execution_count": 12,
      "outputs": [
        {
          "output_type": "stream",
          "name": "stdout",
          "text": [
            "3.0\n",
            "circumference:18.85 meter\n",
            "Area: 28.27 meter\n"
          ]
        }
      ]
    },
    {
      "cell_type": "markdown",
      "source": [
        "Alice is a computer science student who is learning about programming logic. She wants to practice writing a simple program that checks whether a given number is even or odd. She uses the code snippet provided to perform this task. Write a program that takes an integer as input and determines if it is an even number.\n",
        "\n",
        "Input format :\n",
        "The input is a single integer 'n' (where -1,000 <= n <= 1,000).\n",
        "\n",
        "Output format :\n",
        "The output should be a message indicating whether the input number 'n' is even or odd. The message should be in the following format:\n",
        "\n",
        "\"The number [n] is even.\" if 'n' is even.\n",
        "\n",
        "\"The number [n] is odd.\" if 'n' is odd.\n",
        "\n",
        "Code constraints :\n",
        "The input integer 'n' should be within the range of -1,000 to 1,000.\n",
        "\n",
        "The code should not raise any errors or exceptions, assuming 'n' is within the specified range.\n",
        "\n",
        "The code should not use any external libraries or additional functions."
      ],
      "metadata": {
        "id": "Ovx-20_mILLj"
      }
    },
    {
      "cell_type": "code",
      "source": [
        "N=int(input())\n",
        "if N%2==0:\n",
        "  print(f\"The number {N} is even.\")\n",
        "else:\n",
        "  print(f\"The number {N}is odd.\")"
      ],
      "metadata": {
        "colab": {
          "base_uri": "https://localhost:8080/"
        },
        "id": "VGItKoaPIMev",
        "outputId": "e86c6182-715d-4e54-b149-b81216394f8b"
      },
      "execution_count": 14,
      "outputs": [
        {
          "output_type": "stream",
          "name": "stdout",
          "text": [
            "33\n",
            "The number 33is odd.\n"
          ]
        }
      ]
    },
    {
      "cell_type": "markdown",
      "source": [
        "Tommy is tasked with creating a program that performs both left shift and right shift operations on a given integer by a specified shift count.\n",
        "\n",
        "\n",
        "\n",
        "Write a program that takes an integer and a shift count as input and calculates:\n",
        "\n",
        "The result of a left shift operation.\n",
        "The result of a right shift operation.\n",
        "Input format :\n",
        "The first line of input consists of two space-separated integers:\n",
        "\n",
        "An integer denoted as inputValue.\n",
        "A non-negative integer denoted as shiftCount which represents the number of bits to shift.\n",
        "Output format :\n",
        "The program should display two integer results on separate line:\n",
        "\n",
        "The result of the left shift operation, displayed as Left Shift Result: {leftResult}.\n",
        "The result of the right shift operation, displayed as Right Shift Result: {rightResult}"
      ],
      "metadata": {
        "id": "7Wa_dZALKUkK"
      }
    },
    {
      "cell_type": "code",
      "source": [
        "input_value=int(input())\n",
        "shift_count=int(input())\n",
        "left_res=input_value<<shift_count\n",
        "right_res=input_value>>shift_count\n",
        "print(f\"Left Shift Result:{left_res}\")\n",
        "print(f\"Right Shift Result:{right_res}\")"
      ],
      "metadata": {
        "colab": {
          "base_uri": "https://localhost:8080/"
        },
        "id": "nlI_jD_UKZef",
        "outputId": "6d8c22ab-51cc-417f-b751-864be2d0aa4b"
      },
      "execution_count": 15,
      "outputs": [
        {
          "output_type": "stream",
          "name": "stdout",
          "text": [
            "40\n",
            "5\n",
            "Left Shift Result:1280\n",
            "Right Shift Result:1\n"
          ]
        }
      ]
    },
    {
      "cell_type": "markdown",
      "source": [
        "CALCULATING GAIN PERCENTAGE\n",
        "\n",
        "Vikram buys an old scooter for Rs. A and spends Rs. B on its repairs. If he sells the scooter for Rs. C , what is his gain %?\n",
        "\n",
        "Write a program to compute the gain %.\n",
        "\n",
        "\n",
        "\n",
        "Output value should be displayed correct to 2 decimal places. (Use .2f method)\n",
        "\n",
        "Input format :\n",
        "The first input is an integer which corresponds to Cost price. The second input is an integer which corresponds to repair cost. The third input corresponds to the Selling price.\n",
        "\n",
        "Output format :\n",
        "Refer sample input and output for formatting specifications.\n",
        "\n",
        "The float values are displayed correct to 2 decimal places (Use .2f method)"
      ],
      "metadata": {
        "id": "p6CgOH4vM9dr"
      }
    },
    {
      "cell_type": "code",
      "source": [
        "A=int(input())\n",
        "B=int(input())\n",
        "C=int(input())\n",
        "total_cost=A+B\n",
        "gain=C-total_cost\n",
        "gain_v=(gain/total_cost)*100\n",
        "print(f\"{gain_v:.2f}\")"
      ],
      "metadata": {
        "colab": {
          "base_uri": "https://localhost:8080/"
        },
        "id": "h215KRGfM-wM",
        "outputId": "d12aa77c-ad12-4488-849a-c5072c3460b3"
      },
      "execution_count": 23,
      "outputs": [
        {
          "output_type": "stream",
          "name": "stdout",
          "text": [
            "4700\n",
            "800\n",
            "5800\n",
            "5.45\n"
          ]
        }
      ]
    },
    {
      "cell_type": "markdown",
      "source": [
        "Athul, a supermarket employee, needs a program to calculate Goods and Services Tax (GST) deductions for customer purchases. The program should take a purchase code (A to F) and amount, apply the relevant GST rate, subtract it from the original amount, and print the result.\n",
        "\n",
        "\n",
        "\n",
        "The user's total amount and product code are used to calculate the GST.\n",
        "\n",
        "\n",
        "\n",
        "\n",
        "\n",
        "\n",
        "\n",
        "For example, if the amount is 100.00 and the product code is 'C', 5% GST is applied, and the amount is calculated as 100.00 - (100.00*0.05) which is equal to 95.00.\n",
        "\n",
        "Input format :\n",
        "The first line of input consists of a character representing the product code ('A', 'B', 'C', 'D', 'E', or 'F') other than this any characters will be Invalid choice.\n",
        "\n",
        "The second line consists of a float value T, representing the total amount.\n",
        "\n",
        "Output format :\n",
        "If the code is valid ('A', 'B', 'C', 'D', 'E', or 'F'), the output displays a float value representing the amount after deducting GST, rounded off to two decimal places, after applying the appropriate GST deduction.\n",
        "\n",
        "If the code is invalid, it displays \"Invalid choice\".\n",
        "\n",
        "\n",
        "\n",
        "Refer to the sample output for formatting specifications.\n",
        "\n",
        "Code constraints :\n",
        "In this scenario, the test cases fall under the following constraints:\n",
        "\n",
        "100.0 ≤ T ≤ 10000.0\n",
        "\n",
        "Where T represents the second line of the input\n",
        "\n"
      ],
      "metadata": {
        "id": "ANTzfAnJQ5Kw"
      }
    },
    {
      "cell_type": "code",
      "source": [
        "product=input()\n",
        "amount=float(input())\n",
        "if product=='A':\n",
        "  gst=0.0\n",
        "elif product=='B':\n",
        "  gst=0.02\n",
        "elif product=='C':\n",
        "  gst=0.05\n",
        "elif product=='D':\n",
        "  gst=0.12\n",
        "elif product=='E':\n",
        "  gst=0.18\n",
        "elif product=='F':\n",
        "  gst=0.28\n",
        "else:\n",
        "  print(\"Invalid choice\")\n",
        "total=amount-(amount*gst)\n",
        "print(f\"{total:.2f}\")\n",
        "\n"
      ],
      "metadata": {
        "colab": {
          "base_uri": "https://localhost:8080/"
        },
        "id": "zRHu254UQ6hn",
        "outputId": "1538d83b-7600-441a-83f4-b787f23a74b9"
      },
      "execution_count": 3,
      "outputs": [
        {
          "output_type": "stream",
          "name": "stdout",
          "text": [
            "D\n",
            "1234.52\n",
            "1086.38\n"
          ]
        }
      ]
    },
    {
      "cell_type": "markdown",
      "source": [
        "Minimum and Maximum\n",
        "\n",
        "The ExConFair is the region's largest trade fair on Construction Equipments & Technology. The Event organizers hired college students as volunteers to work at the fair as the event is targeted to be attended by approx. 30 million visitors.\n",
        "\n",
        "At the Office in the fair, there are two guards who count how many times a volunteer enters into the fair ground. Though the duty of a guard is 24 hour in a day, but sometimes they fall asleep during their duty and could not track the entry of volunteers in the fair ground. But one better thing is that they never fall asleep at the same time. At least one of them remains awake and counts who enters into the office. Now the Event Head wants to calculate how many times a volunteer has entered into the fair ground. He asked to the guard and they give him two integers A and B, count of first guard and second guard respectively.\n",
        "\n",
        "Help the Event Head to count the minimum and maximum number of times a volunteer could have entered into the fair ground.\n",
        "\n",
        "Input format :\n",
        "First line of the input consists of two integers that correspond respectively to a and b.\n",
        "\n",
        "Output format :\n",
        "Output a single line containing two space separated integers, the minimum and maximum number of times a volunteer could have entered into the fair ground."
      ],
      "metadata": {
        "id": "UlIK_FbLuxCJ"
      }
    },
    {
      "cell_type": "code",
      "source": [
        "a,b=map(int,input().split())\n",
        "mini=max(a,b)\n",
        "maxi=a+b\n",
        "print(mini,maxi)"
      ],
      "metadata": {
        "colab": {
          "base_uri": "https://localhost:8080/"
        },
        "id": "mKT10VzbuyFU",
        "outputId": "02aafde4-7b35-4dbe-fd1f-0d2be8b3b10d"
      },
      "execution_count": 4,
      "outputs": [
        {
          "output_type": "stream",
          "name": "stdout",
          "text": [
            "20 40\n",
            "40 60\n"
          ]
        }
      ]
    },
    {
      "cell_type": "markdown",
      "source": [
        "Imagine Alice is designing a program to analyze data from a sensor network that measures temperature at different locations. The goal is to identify and print all odd temperature values, excluding those that are multiples of 3. The temperature values are represented by the variable temperature in the code.\n",
        "\n",
        "\n",
        "\n",
        "Incorporate the continue statement in the program to skip processing and printing when a temperature reading is a multiple of 3.\n",
        "\n",
        "Input format :\n",
        "The first line consists of an integer m, representing the temperature's starting range.\n",
        "\n",
        "The second line of input consists of an integer n, representing the temperature's ending range.\n",
        "\n",
        "Output format :\n",
        "The output displays all the odd temperatures that are not divisible by 3 between the given range(inclusive of range) separated by space.\n",
        "\n"
      ],
      "metadata": {
        "id": "-WAgmhGH5xyN"
      }
    },
    {
      "cell_type": "code",
      "source": [
        "m=int(input().strip())\n",
        "n=int(input().strip())\n",
        "for tem in range(m,n+1):\n",
        "  if tem%2==0:\n",
        "    continue\n",
        "  if tem %3==0:\n",
        "    continue\n",
        "  print(tem,end=\" \")"
      ],
      "metadata": {
        "colab": {
          "base_uri": "https://localhost:8080/"
        },
        "id": "ac09ek7j5y0X",
        "outputId": "f04fa766-0e7f-49cf-bb73-901576fe228b"
      },
      "execution_count": 4,
      "outputs": [
        {
          "output_type": "stream",
          "name": "stdout",
          "text": [
            "1\n",
            "20\n",
            "1 5 7 11 13 17 19 "
          ]
        }
      ]
    },
    {
      "cell_type": "markdown",
      "source": [
        "Shylaja is organizing a Diwali celebration. She planned to surprise the team members with the alphabet arrangements. She wants to display the team's name in the Half-Pyramid of Alphabets. Help her build the arrangement of their team's name with alphabets.\n",
        "\n",
        "Input:\n",
        "\n",
        "5\n",
        "\n",
        "\n",
        "\n",
        "Output:\n",
        "\n",
        "         A\n",
        "       B B\n",
        "     C C C\n",
        "   D D D D\n",
        " E E E E E\n",
        "Input format :\n",
        "The input consists of n as an integer.\n",
        "\n",
        "Output format :\n",
        "The output prints the required pattern."
      ],
      "metadata": {
        "id": "CWIbJ9ZG-k9_"
      }
    },
    {
      "cell_type": "code",
      "source": [
        "n=int(input().strip())\n",
        "for i in range(1,n+1):\n",
        "  print(\" \"*(2*(n-i)),end=\" \")\n",
        "  for j in range(i):\n",
        "     if j==i-1:\n",
        "       print(chr(64+i),end=\" \")\n",
        "     else:\n",
        "      print(chr(64+i),end=\" \")\n",
        "  print()\n"
      ],
      "metadata": {
        "colab": {
          "base_uri": "https://localhost:8080/"
        },
        "id": "oJtp4vvK-pOm",
        "outputId": "43321a08-c30f-41e1-abc4-64d29fd85157"
      },
      "execution_count": 7,
      "outputs": [
        {
          "output_type": "stream",
          "name": "stdout",
          "text": [
            "3\n",
            "     A \n",
            "   B B \n",
            " C C C \n"
          ]
        }
      ]
    },
    {
      "cell_type": "code",
      "source": [
        "n=int(input().strip())\n",
        "for i in range(1,n+1):\n",
        "  print(\" \"*(2*(n-i)),end=\" \")\n",
        "  for j in range(i):\n",
        "    if j==i-1:\n",
        "      print(chr(64+i),end=\" \")\n",
        "    else:\n",
        "      print(chr(64+i),end=\" \")\n",
        "  print()"
      ],
      "metadata": {
        "colab": {
          "base_uri": "https://localhost:8080/"
        },
        "id": "N9RSKSIYAqan",
        "outputId": "e84f7b7d-b9b3-4095-9228-5c7180401198"
      },
      "execution_count": 9,
      "outputs": [
        {
          "output_type": "stream",
          "name": "stdout",
          "text": [
            "6\n",
            "           A \n",
            "         B B \n",
            "       C C C \n",
            "     D D D D \n",
            "   E E E E E \n",
            " F F F F F F \n"
          ]
        }
      ]
    },
    {
      "cell_type": "markdown",
      "source": [
        "A telecom company offers two calling plans—Plan A and Plan B—with different rates for daytime, evening, and night usage. Customers want to determine which plan is more cost-effective based on their usage. Write a program that calculates and compares the total cost of both plans and suggests the cheaper one based on user-provided minutes.\n",
        "\n",
        "Input format :\n",
        "The first line contains an integer representing the number of daytime minutes used.\n",
        "\n",
        "The second line contains an integer representing the number of evening minutes used.\n",
        "\n",
        "The third line contains an integer representing the number of weekend minutes used.\n",
        "\n",
        "Output format :\n",
        "The first line of output prints \"Plan A costs \" followed by a float representing the total cost of Plan A formatted to two decimal places.\n",
        "\n",
        "The second line prints \"Plan B costs \" followed by a float representing the total cost of Plan B formatted to two decimal places.\n",
        "\n",
        "The third line prints a message indicating which plan is cheapest or if both plans cost the same.\n",
        "\n"
      ],
      "metadata": {
        "id": "nfN8MS4lEivm"
      }
    },
    {
      "cell_type": "code",
      "source": [
        "d=int(input())\n",
        "e=int(input())\n",
        "w=int(input())\n",
        "a=max(0, d-100)*0.25+e*0.15+w*0.20\n",
        "b=max(0,d-250)*0.45+e*0.35+w*0.25\n",
        "print(\"Plan A costs %.2f\"%a)\n",
        "print(\"Plan B costs %.2f\"%b)\n",
        "if a<b:\n",
        "  print(\"Plan A is cheapest\")\n",
        "elif b>a:\n",
        "  print(\"Plan B is cheapest\")\n",
        "else:\n",
        "  print(\"plan A and B have the same Price\")\n"
      ],
      "metadata": {
        "colab": {
          "base_uri": "https://localhost:8080/"
        },
        "id": "9ZUXFIJHJyvM",
        "outputId": "37f6aeb2-3180-4271-d819-e91ef1323389"
      },
      "execution_count": 1,
      "outputs": [
        {
          "output_type": "stream",
          "name": "stdout",
          "text": [
            "251\n",
            "10\n",
            "60\n",
            "Plan A costs 51.25\n",
            "Plan B costs 18.95\n",
            "plan A and B have the same Price\n"
          ]
        }
      ]
    },
    {
      "cell_type": "markdown",
      "source": [
        "A program to find all possible permutations in which \"n\" people can occupy \"r\" seats in a theater is discussed here.\n",
        "\n",
        "\n",
        "\n",
        "N friends are planning to go to a movie. One of them suggested a few movies, and all the others started to discuss, and finally they selected a movie. One of them quickly booked their tickets online, but to their surprise, they were unable to select their seats. All of them got confused. Then, anyway, they decided to go to the movie. They rushed to reach the theater on time. Again, they are surprised that no one was there in the theater. They are the only ones about to watch the movie. There is 'r' number of seats in which, 'n' number persons should sit. How many different ways can they sit inside the theater?\n",
        "\n",
        "\n",
        "\n",
        "Given the number of people \"n\" and the number of seats \"r\" as input. The task is to determine the various number of ways in which \"n\" people can be seated in those \"r\" seats.\n",
        "\n",
        "\n",
        "\n",
        "Function specifications: int fact(long int x)\n",
        "\n",
        "Input format :\n",
        "The first line of input consists of a number of people, n and the second line of input consists of a number of rows, r.\n",
        "\n",
        "Output format :\n",
        "The output displays the number of ways in which \"n\" people can sit in \"r\" seats.\n",
        "\n"
      ],
      "metadata": {
        "id": "vXCi-j8UCe0C"
      }
    },
    {
      "cell_type": "code",
      "source": [
        "%%writefile my_program.c\n",
        "#include<stdio.h>\n",
        "int main(){\n",
        "    int n,r;\n",
        "    long long ways=1;\n",
        "    scanf(\"%d\",&n);\n",
        "    scanf(\"%d\",&r);\n",
        "    if(r>n){\n",
        "      printf(\"Number of ways people can be seated:0\\n\");\n",
        "      return 0;\n",
        "    }\n",
        "    for(int i=0;i<r;i++){\n",
        "      ways=ways*(n-i);\n",
        "    }\n",
        "    printf(\"Number of ways people can be seated:%lld\\n\",ways);\n",
        "    return 0;\n",
        "}"
      ],
      "metadata": {
        "colab": {
          "base_uri": "https://localhost:8080/"
        },
        "id": "qxD5u-oECfxc",
        "outputId": "9d64d364-efee-476a-afeb-ab245a209a88"
      },
      "execution_count": 4,
      "outputs": [
        {
          "output_type": "stream",
          "name": "stdout",
          "text": [
            "Overwriting my_program.c\n"
          ]
        }
      ]
    },
    {
      "cell_type": "code",
      "source": [
        "!gcc my_program.c\n"
      ],
      "metadata": {
        "id": "S-wmei2QFgEe"
      },
      "execution_count": 5,
      "outputs": []
    },
    {
      "cell_type": "code",
      "source": [
        "!./a.out"
      ],
      "metadata": {
        "colab": {
          "base_uri": "https://localhost:8080/"
        },
        "id": "sG6kgPT9HSsS",
        "outputId": "90f6983f-9d33-4606-cd45-021c8e3b2306"
      },
      "execution_count": 6,
      "outputs": [
        {
          "output_type": "stream",
          "name": "stdout",
          "text": [
            "5\n",
            "3\n",
            "Number of ways people can be seated:60\n"
          ]
        }
      ]
    },
    {
      "cell_type": "code",
      "source": [
        "%%writefile my_program.c\n",
        "# include <stdio.h>\n",
        "int main(){\n",
        "  int r,n;\n",
        "  long long ways=1;\n",
        "  scanf(\"%d\",&n);\n",
        "  scanf(\"%d\",&r);\n",
        "  if(r>n){\n",
        "    printf(\"Number of ways people can be seated:0\\n\");\n",
        "    return 0;\n",
        "  }\n",
        "  for(int i=0;i<r;i++){\n",
        "    ways=ways*(n-i);\n",
        "  }\n",
        "  printf(\"Number of ways people can be seated:%lld\",ways);\n",
        "  return 0;\n",
        "}"
      ],
      "metadata": {
        "colab": {
          "base_uri": "https://localhost:8080/"
        },
        "id": "gO3PZPmzHP3F",
        "outputId": "fe8c5d45-3f34-489d-846f-572ba3944133"
      },
      "execution_count": 7,
      "outputs": [
        {
          "output_type": "stream",
          "name": "stdout",
          "text": [
            "Overwriting my_program.c\n"
          ]
        }
      ]
    },
    {
      "cell_type": "code",
      "source": [
        "!gcc my_program.c\n"
      ],
      "metadata": {
        "id": "h6hdMkt7IjpH"
      },
      "execution_count": 8,
      "outputs": []
    },
    {
      "cell_type": "code",
      "source": [
        "!./a.out"
      ],
      "metadata": {
        "colab": {
          "base_uri": "https://localhost:8080/"
        },
        "id": "UYaEn4iMIm9m",
        "outputId": "9ad262ea-08f9-4622-b8a5-9f24cd38a3d7"
      },
      "execution_count": 9,
      "outputs": [
        {
          "output_type": "stream",
          "name": "stdout",
          "text": [
            "7\n",
            "6\n",
            "Number of ways people can be seated:5040"
          ]
        }
      ]
    }
  ]
}