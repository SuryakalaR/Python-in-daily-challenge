{
  "nbformat": 4,
  "nbformat_minor": 0,
  "metadata": {
    "colab": {
      "provenance": [],
      "gpuType": "T4",
      "authorship_tag": "ABX9TyOXxP1jOmsVJA2To5J6y/WH",
      "include_colab_link": true
    },
    "kernelspec": {
      "name": "python3",
      "display_name": "Python 3"
    },
    "language_info": {
      "name": "python"
    },
    "accelerator": "GPU"
  },
  "cells": [
    {
      "cell_type": "markdown",
      "metadata": {
        "id": "view-in-github",
        "colab_type": "text"
      },
      "source": [
        "<a href=\"https://colab.research.google.com/github/SuryakalaR/Python-in-daily-challenge/blob/main/Basedpro.ipynb\" target=\"_parent\"><img src=\"https://colab.research.google.com/assets/colab-badge.svg\" alt=\"Open In Colab\"/></a>"
      ]
    },
    {
      "cell_type": "markdown",
      "source": [
        "Problem Statement\n",
        "\n",
        "\n",
        "\n",
        "Write a program that accepts a char, int, and float as input and prints the same.\n",
        "\n",
        "Input format :\n",
        "The input consists of a char, int, and float separated by a space.\n",
        "\n",
        "Output format :\n",
        "The output prints the char, int, and float with 2 decimal places separated by a space in the same line, respectively.\n",
        "\n",
        "\n",
        "\n",
        "\n"
      ],
      "metadata": {
        "id": "uH5MCVIhEDqW"
      }
    },
    {
      "cell_type": "code",
      "execution_count": null,
      "metadata": {
        "colab": {
          "base_uri": "https://localhost:8080/"
        },
        "id": "T4AbC1TQD-JB",
        "outputId": "1919ab75-0b58-4ad6-ddc1-71056e4f234d"
      },
      "outputs": [
        {
          "output_type": "stream",
          "name": "stdout",
          "text": [
            "a 10 15.2\n",
            "a 10 15.20\n"
          ]
        }
      ],
      "source": [
        "char,i,f=input().split()\n",
        "i=int(i)\n",
        "f=float(f)\n",
        "print(f\"{char} {i} {f:.2f}\")\n"
      ]
    },
    {
      "cell_type": "markdown",
      "source": [
        "Write a simple program by declaring three variables, where two variables are of the integer type and one variable is of the double type. Add the two integer variables and store the result in the remaining variable (double).\n",
        "\n",
        "Input format :\n",
        "The input consists of the two values, n1 and n2, separated by a single space.\n",
        "\n",
        "Output format :\n",
        "The output displays the result as a double."
      ],
      "metadata": {
        "id": "yp9TR741nhCd"
      }
    },
    {
      "cell_type": "code",
      "source": [
        "n1,n2=map(int,input().split())\n",
        "n3=float(n1+n2)\n",
        "print(n3)"
      ],
      "metadata": {
        "colab": {
          "base_uri": "https://localhost:8080/"
        },
        "id": "EC8YIRH1osHO",
        "outputId": "47fdeaec-5000-49eb-8e04-80f6b0119ff8"
      },
      "execution_count": null,
      "outputs": [
        {
          "output_type": "stream",
          "name": "stdout",
          "text": [
            "10 20\n",
            "30.0\n"
          ]
        }
      ]
    },
    {
      "cell_type": "markdown",
      "source": [
        "Alice is a math teacher who wants to calculate the area of a circle based on the radius provided by a student. She needs your help to create a C program that will take an integer input (radius) from the student and calculate the area of the circle.\n",
        "\n",
        "\n",
        "\n",
        "It's important to cast the integer radius to a double before performing the area calculation to ensure accuracy.\n",
        "\n",
        "\n",
        "\n",
        "Formula:\n",
        "\n",
        "Area = Math.PI * Radius * Radius\n",
        "\n",
        "Input format :\n",
        "The first input line is an integer n, representing the circle's radius.\n",
        "\n",
        "Output format :\n",
        "The output should print the calculated area of the circle as a double value, formatted to two decimal places.\n",
        "\n"
      ],
      "metadata": {
        "id": "y9_VTnT1tMZv"
      }
    },
    {
      "cell_type": "code",
      "source": [
        "%%writefile my_program.c\n",
        "\n",
        "#include<stdio.h>\n",
        "#include<math.h>\n",
        "int main(){\n",
        "  int radius;\n",
        "  double area;\n",
        "  scanf(\"%d\",&radius);\n",
        "  area=M_PI*(double)radius*(double)radius;\n",
        "  printf(\"%.2f\",area);\n",
        "}"
      ],
      "metadata": {
        "colab": {
          "base_uri": "https://localhost:8080/"
        },
        "id": "VYLWpiFwtNT2",
        "outputId": "3ab9caa1-090e-460f-9a41-266d5b1d4c57"
      },
      "execution_count": null,
      "outputs": [
        {
          "output_type": "stream",
          "name": "stdout",
          "text": [
            "Overwriting my_program.c\n"
          ]
        }
      ]
    },
    {
      "cell_type": "code",
      "source": [
        "!gcc my_program.c"
      ],
      "metadata": {
        "id": "ED3XatspwPMx"
      },
      "execution_count": null,
      "outputs": []
    },
    {
      "cell_type": "code",
      "source": [
        "!./a.out"
      ],
      "metadata": {
        "colab": {
          "base_uri": "https://localhost:8080/"
        },
        "id": "kY56mcSBxiNq",
        "outputId": "f64994f5-6867-4175-f0b9-f6692038afbd"
      },
      "execution_count": null,
      "outputs": [
        {
          "output_type": "stream",
          "name": "stdout",
          "text": [
            "13\n",
            "530.93"
          ]
        }
      ]
    },
    {
      "cell_type": "markdown",
      "source": [
        "**A space research team is building a robot to decode signals from alien life forms. These signals are initially received in decimal format, but the robot only understands binary. The engineers need a tool that can quickly convert these decimal numbers to binary so the robot can interpret them. Your task is to help the team by writing a program that performs this conversion.\n",
        "\n",
        "Input format :\n",
        "The first line of input contains an integer T, representing the number of decimal numbers to convert.\n",
        "\n",
        "The next T lines each contain one integer, a decimal number to be converted to binary.\n",
        "\n",
        "Output format :\n",
        "For each decimal number, print a line stating: \"Binary equivalent of X is Y\", where X is the input decimal number, and Y is its binary equivalent."
      ],
      "metadata": {
        "id": "8Ml9hgCuBBrM"
      }
    },
    {
      "cell_type": "code",
      "source": [
        "T=int(input())\n",
        "for i in range(T):\n",
        "  N=int(input())\n",
        "  b=bin(N)[2:]\n",
        "  print(\"Binary equivalent of \",N,\"is\",b)"
      ],
      "metadata": {
        "colab": {
          "base_uri": "https://localhost:8080/"
        },
        "id": "EYsm4uuVBDUQ",
        "outputId": "a9d8526a-06c3-4545-81aa-2cec5a9d7833"
      },
      "execution_count": 1,
      "outputs": [
        {
          "output_type": "stream",
          "name": "stdout",
          "text": [
            "3\n",
            "4\n",
            "Binary equivalent of  4 is 100\n",
            "5\n",
            "Binary equivalent of  5 is 101\n",
            "7\n",
            "Binary equivalent of  7 is 111\n"
          ]
        }
      ]
    },
    {
      "cell_type": "markdown",
      "source": [
        "Emily has a beautiful circular garden in her backyard. She's interested in calculating two important measurements for her garden: the circumference and the area. To do this, she needs a program that can take the radius of her circular garden as input and provide the calculated circumference and area as output. The formulas she should use are as follows:\n",
        "\n",
        "\n",
        "\n",
        "To calculate the circumference (C) of a circle, you can use the formula:\n",
        "\n",
        "C = 2 * π * r\n",
        "\n",
        "Where:\n",
        "\n",
        "\n",
        "\n",
        "C represents the circumference.\n",
        "\n",
        "π (pi) is approximately 3.14159.\n",
        "\n",
        "r is the radius of the circle.\n",
        "\n",
        "To calculate the area (A) of a circle, you can use the formula:\n",
        "\n",
        "A = π * r^2\n",
        "\n",
        "Where:\n",
        "\n",
        "\n",
        "\n",
        "A represents the area.\n",
        "\n",
        "π (pi) is approximately 3.14159.\n",
        "\n",
        "r is the radius of the circle.\n",
        "\n",
        "Emily is not a programmer, and she needs your help to create a program that will make these calculations for her garden.\n",
        "\n",
        "Input format :\n",
        "The first line of the input contains a single positive floating-point number as input, representing the radius of the circular garden. The radius should be in meters.\n",
        "\n",
        "\n",
        "\n",
        "Output format :\n",
        "The output should display the program should provide two calculated values.\n",
        "\n",
        "The circumference (C) of the circular garden.\n",
        "The area (A) of the circular garden.\n",
        "Each value should be rounded to two decimal places.\n",
        "Code constraints :\n",
        "Use the approximation π ≈ 3.14159 for the calculations.\n",
        "\n",
        "The program should take the radius as input, perform the calculations, and output the results.\n",
        "\n",
        "Ensure your code handles exceptions or errors for invalid inputs (e.g., non-numeric inputs or negative values)."
      ],
      "metadata": {
        "id": "8A9P1FqNB-Gs"
      }
    },
    {
      "cell_type": "code",
      "source": [
        "try:\n",
        "  r=float(input())\n",
        "  if(r<0):\n",
        "      print(\"Error the value is negative\")\n",
        "\n",
        "  else:\n",
        "     C=2*3.14159*r\n",
        "     A=3.14159*r*r\n",
        "     print(f\"circumference:{C:.2f} meter\")\n",
        "     print(f\"Area: {A:.2f} meter\")\n",
        "except ValueError:\n",
        "   print(\"Invalid input:enter the correct number\")\n"
      ],
      "metadata": {
        "colab": {
          "base_uri": "https://localhost:8080/"
        },
        "id": "6BERWEU1DRme",
        "outputId": "a8c05097-a0c5-41c0-c3f5-bc811fe6382e"
      },
      "execution_count": 12,
      "outputs": [
        {
          "output_type": "stream",
          "name": "stdout",
          "text": [
            "3.0\n",
            "circumference:18.85 meter\n",
            "Area: 28.27 meter\n"
          ]
        }
      ]
    },
    {
      "cell_type": "markdown",
      "source": [
        "Alice is a computer science student who is learning about programming logic. She wants to practice writing a simple program that checks whether a given number is even or odd. She uses the code snippet provided to perform this task. Write a program that takes an integer as input and determines if it is an even number.\n",
        "\n",
        "Input format :\n",
        "The input is a single integer 'n' (where -1,000 <= n <= 1,000).\n",
        "\n",
        "Output format :\n",
        "The output should be a message indicating whether the input number 'n' is even or odd. The message should be in the following format:\n",
        "\n",
        "\"The number [n] is even.\" if 'n' is even.\n",
        "\n",
        "\"The number [n] is odd.\" if 'n' is odd.\n",
        "\n",
        "Code constraints :\n",
        "The input integer 'n' should be within the range of -1,000 to 1,000.\n",
        "\n",
        "The code should not raise any errors or exceptions, assuming 'n' is within the specified range.\n",
        "\n",
        "The code should not use any external libraries or additional functions."
      ],
      "metadata": {
        "id": "Ovx-20_mILLj"
      }
    },
    {
      "cell_type": "code",
      "source": [
        "N=int(input())\n",
        "if N%2==0:\n",
        "  print(f\"The number {N} is even.\")\n",
        "else:\n",
        "  print(f\"The number {N}is odd.\")"
      ],
      "metadata": {
        "colab": {
          "base_uri": "https://localhost:8080/"
        },
        "id": "VGItKoaPIMev",
        "outputId": "e86c6182-715d-4e54-b149-b81216394f8b"
      },
      "execution_count": 14,
      "outputs": [
        {
          "output_type": "stream",
          "name": "stdout",
          "text": [
            "33\n",
            "The number 33is odd.\n"
          ]
        }
      ]
    },
    {
      "cell_type": "markdown",
      "source": [
        "Tommy is tasked with creating a program that performs both left shift and right shift operations on a given integer by a specified shift count.\n",
        "\n",
        "\n",
        "\n",
        "Write a program that takes an integer and a shift count as input and calculates:\n",
        "\n",
        "The result of a left shift operation.\n",
        "The result of a right shift operation.\n",
        "Input format :\n",
        "The first line of input consists of two space-separated integers:\n",
        "\n",
        "An integer denoted as inputValue.\n",
        "A non-negative integer denoted as shiftCount which represents the number of bits to shift.\n",
        "Output format :\n",
        "The program should display two integer results on separate line:\n",
        "\n",
        "The result of the left shift operation, displayed as Left Shift Result: {leftResult}.\n",
        "The result of the right shift operation, displayed as Right Shift Result: {rightResult}"
      ],
      "metadata": {
        "id": "7Wa_dZALKUkK"
      }
    },
    {
      "cell_type": "code",
      "source": [
        "input_value=int(input())\n",
        "shift_count=int(input())\n",
        "left_res=input_value<<shift_count\n",
        "right_res=input_value>>shift_count\n",
        "print(f\"Left Shift Result:{left_res}\")\n",
        "print(f\"Right Shift Result:{right_res}\")"
      ],
      "metadata": {
        "colab": {
          "base_uri": "https://localhost:8080/"
        },
        "id": "nlI_jD_UKZef",
        "outputId": "6d8c22ab-51cc-417f-b751-864be2d0aa4b"
      },
      "execution_count": 15,
      "outputs": [
        {
          "output_type": "stream",
          "name": "stdout",
          "text": [
            "40\n",
            "5\n",
            "Left Shift Result:1280\n",
            "Right Shift Result:1\n"
          ]
        }
      ]
    },
    {
      "cell_type": "markdown",
      "source": [
        "CALCULATING GAIN PERCENTAGE\n",
        "\n",
        "Vikram buys an old scooter for Rs. A and spends Rs. B on its repairs. If he sells the scooter for Rs. C , what is his gain %?\n",
        "\n",
        "Write a program to compute the gain %.\n",
        "\n",
        "\n",
        "\n",
        "Output value should be displayed correct to 2 decimal places. (Use .2f method)\n",
        "\n",
        "Input format :\n",
        "The first input is an integer which corresponds to Cost price. The second input is an integer which corresponds to repair cost. The third input corresponds to the Selling price.\n",
        "\n",
        "Output format :\n",
        "Refer sample input and output for formatting specifications.\n",
        "\n",
        "The float values are displayed correct to 2 decimal places (Use .2f method)"
      ],
      "metadata": {
        "id": "p6CgOH4vM9dr"
      }
    },
    {
      "cell_type": "code",
      "source": [
        "A=int(input())\n",
        "B=int(input())\n",
        "C=int(input())\n",
        "total_cost=A+B\n",
        "gain=C-total_cost\n",
        "gain_v=(gain/total_cost)*100\n",
        "print(f\"{gain_v:.2f}\")"
      ],
      "metadata": {
        "colab": {
          "base_uri": "https://localhost:8080/"
        },
        "id": "h215KRGfM-wM",
        "outputId": "d12aa77c-ad12-4488-849a-c5072c3460b3"
      },
      "execution_count": 23,
      "outputs": [
        {
          "output_type": "stream",
          "name": "stdout",
          "text": [
            "4700\n",
            "800\n",
            "5800\n",
            "5.45\n"
          ]
        }
      ]
    },
    {
      "cell_type": "markdown",
      "source": [
        "Athul, a supermarket employee, needs a program to calculate Goods and Services Tax (GST) deductions for customer purchases. The program should take a purchase code (A to F) and amount, apply the relevant GST rate, subtract it from the original amount, and print the result.\n",
        "\n",
        "\n",
        "\n",
        "The user's total amount and product code are used to calculate the GST.\n",
        "\n",
        "\n",
        "\n",
        "\n",
        "\n",
        "\n",
        "\n",
        "For example, if the amount is 100.00 and the product code is 'C', 5% GST is applied, and the amount is calculated as 100.00 - (100.00*0.05) which is equal to 95.00.\n",
        "\n",
        "Input format :\n",
        "The first line of input consists of a character representing the product code ('A', 'B', 'C', 'D', 'E', or 'F') other than this any characters will be Invalid choice.\n",
        "\n",
        "The second line consists of a float value T, representing the total amount.\n",
        "\n",
        "Output format :\n",
        "If the code is valid ('A', 'B', 'C', 'D', 'E', or 'F'), the output displays a float value representing the amount after deducting GST, rounded off to two decimal places, after applying the appropriate GST deduction.\n",
        "\n",
        "If the code is invalid, it displays \"Invalid choice\".\n",
        "\n",
        "\n",
        "\n",
        "Refer to the sample output for formatting specifications.\n",
        "\n",
        "Code constraints :\n",
        "In this scenario, the test cases fall under the following constraints:\n",
        "\n",
        "100.0 ≤ T ≤ 10000.0\n",
        "\n",
        "Where T represents the second line of the input\n",
        "\n"
      ],
      "metadata": {
        "id": "ANTzfAnJQ5Kw"
      }
    },
    {
      "cell_type": "code",
      "source": [
        "product=input()\n",
        "amount=float(input())\n",
        "if product=='A':\n",
        "  gst=0.0\n",
        "elif product=='B':\n",
        "  gst=0.02\n",
        "elif product=='C':\n",
        "  gst=0.05\n",
        "elif product=='D':\n",
        "  gst=0.12\n",
        "elif product=='E':\n",
        "  gst=0.18\n",
        "elif product=='F':\n",
        "  gst=0.28\n",
        "else:\n",
        "  print(\"Invalid choice\")\n",
        "total=amount-(amount*gst)\n",
        "print(f\"{total:.2f}\")\n",
        "\n"
      ],
      "metadata": {
        "colab": {
          "base_uri": "https://localhost:8080/"
        },
        "id": "zRHu254UQ6hn",
        "outputId": "1538d83b-7600-441a-83f4-b787f23a74b9"
      },
      "execution_count": 3,
      "outputs": [
        {
          "output_type": "stream",
          "name": "stdout",
          "text": [
            "D\n",
            "1234.52\n",
            "1086.38\n"
          ]
        }
      ]
    }
  ]
}