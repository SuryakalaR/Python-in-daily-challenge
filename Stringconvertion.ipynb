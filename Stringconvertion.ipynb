{
  "nbformat": 4,
  "nbformat_minor": 0,
  "metadata": {
    "colab": {
      "provenance": [],
      "authorship_tag": "ABX9TyNz/7SHgAuHMYUv2RjugzbJ",
      "include_colab_link": true
    },
    "kernelspec": {
      "name": "python3",
      "display_name": "Python 3"
    },
    "language_info": {
      "name": "python"
    }
  },
  "cells": [
    {
      "cell_type": "markdown",
      "metadata": {
        "id": "view-in-github",
        "colab_type": "text"
      },
      "source": [
        "<a href=\"https://colab.research.google.com/github/SuryakalaR/Python-in-daily-challenge/blob/main/Stringconvertion.ipynb\" target=\"_parent\"><img src=\"https://colab.research.google.com/assets/colab-badge.svg\" alt=\"Open In Colab\"/></a>"
      ]
    },
    {
      "cell_type": "markdown",
      "source": [
        "**Text Wrap**\n",
        "It used the string to separated in the next line"
      ],
      "metadata": {
        "id": "CEeH10PSvWr7"
      }
    },
    {
      "cell_type": "code",
      "source": [
        "import textwrap\n",
        "def wrap(string, max_width):\n",
        "  return textwrap.fill(string,max_width)\n",
        "if __name__ == '__main__':\n",
        "  string,max_width=input(),int(input())\n",
        "  result=wrap(string,max_width)\n",
        "  print(result)\n"
      ],
      "metadata": {
        "colab": {
          "base_uri": "https://localhost:8080/"
        },
        "id": "hFwJYMh_vprQ",
        "outputId": "f8578ead-6f24-4d07-9431-b060c046270e"
      },
      "execution_count": 12,
      "outputs": [
        {
          "output_type": "stream",
          "name": "stdout",
          "text": [
            "DHMGGCDGJTTKI.NGN\n",
            "3\n",
            "DHM\n",
            "GGC\n",
            "DGJ\n",
            "TTK\n",
            "I.N\n",
            "GN\n"
          ]
        }
      ]
    },
    {
      "cell_type": "markdown",
      "source": [
        "insert the character in the string\n",
        "\n",
        "\n",
        "*   string is the immutable so convert into the list(mutable)\n",
        "\n",
        "\n"
      ],
      "metadata": {
        "id": "6DkH5Tvr5uWp"
      }
    },
    {
      "cell_type": "code",
      "source": [
        "def mutable_str(string,position,character):\n",
        "  str_list=list(string)\n",
        "  str_list[position]=character\n",
        "  finial_str=''.join(str_list)\n",
        "  return finial_str\n",
        "if __name__ == '__main__ ':\n",
        "  s=input()\n",
        "  i,c=input().split()\n",
        "  s_new=mutable_str(s,int(i),c)\n",
        "  print(s_new)\n"
      ],
      "metadata": {
        "id": "MsJ1gyPo6UMn"
      },
      "execution_count": 14,
      "outputs": []
    }
  ]
}