{
  "nbformat": 4,
  "nbformat_minor": 0,
  "metadata": {
    "colab": {
      "provenance": [],
      "authorship_tag": "ABX9TyMkBTziZwKGe7V48Lvw2Q0N",
      "include_colab_link": true
    },
    "kernelspec": {
      "name": "python3",
      "display_name": "Python 3"
    },
    "language_info": {
      "name": "python"
    }
  },
  "cells": [
    {
      "cell_type": "markdown",
      "metadata": {
        "id": "view-in-github",
        "colab_type": "text"
      },
      "source": [
        "<a href=\"https://colab.research.google.com/github/SuryakalaR/Python-in-daily-challenge/blob/main/Calendar.ipynb\" target=\"_parent\"><img src=\"https://colab.research.google.com/assets/colab-badge.svg\" alt=\"Open In Colab\"/></a>"
      ]
    },
    {
      "cell_type": "markdown",
      "source": [
        "calendar Module to find the day"
      ],
      "metadata": {
        "id": "2a1eXkAZTmsb"
      }
    },
    {
      "cell_type": "code",
      "source": [
        "import calendar\n",
        "month,data,year=list(map(int,input().split()))\n",
        "ans=calendar.weekday(year,month,data)\n",
        "print((calendar.day_name[ans]).upper())"
      ],
      "metadata": {
        "colab": {
          "base_uri": "https://localhost:8080/"
        },
        "id": "CgEmnLosTy_v",
        "outputId": "59e43788-5504-407f-8b64-3349a39e2786"
      },
      "execution_count": 1,
      "outputs": [
        {
          "output_type": "stream",
          "name": "stdout",
          "text": [
            "11 22 2005\n",
            "TUESDAY\n"
          ]
        }
      ]
    }
  ]
}